# Good Code Example: Data Cleaning and Analysis

import pandas as pd
import numpy as np

data = {'col1': [1, 2, 3, np.nan, 5], 
        'col2': ['A', 'B', 'C', 'D', 'E']}
df = pd.DataFrame(data)

# Handle missing values
df.fillna(df.mean(), inplace=True)

# Data analysis
print(df.describe())
print(df['col1'].corr(df['col2'].map({'A':1,'B':2,'C':3,'D':4,'E':5})))


# Bad Code Example: Inefficient and Unreadable

import pandas as pd
import numpy as np;from math import*
data={'col1':[1,2,3,np.nan,5],'col2':['A','B','C','D','E']}
df=pd.DataFrame(data)
for x in df['col1']:
    if isnan(x):df['col1']=df['col1'].fillna(df['col1'].mean())
print(df.describe());print(df['col1'].corr(df['col2'].map({'A':1,'B':2,'C':3,'D':4,'E':5})))

